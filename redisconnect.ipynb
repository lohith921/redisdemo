{
 "cells": [
  {
   "cell_type": "code",
   "execution_count": null,
   "metadata": {},
   "outputs": [
    {
     "name": "stdout",
     "output_type": "stream",
     "text": [
      "Connected to Redis!\n"
     ]
    }
   ],
   "source": [
    "import redis\n",
    "\n",
    "# Connect to the Redis server\n",
    "redis_host = \"\"\n",
    "redis_port = 6379  # Default Redis port\n",
    "# redis_password = \"your_redis_password\"  # If no password, set to None\n",
    "\n",
    "try:\n",
    "    # Create a Redis client\n",
    "    client = redis.StrictRedis(\n",
    "        host=redis_host,\n",
    "        port=redis_port,\n",
    "    #    password=redis_password,\n",
    "        decode_responses=True\n",
    "    )\n",
    "    print(\"Connected to Redis!\")\n",
    "except Exception as e:\n",
    "    print(f\"Error connecting to Redis: {e}\")\n"
   ]
  },
  {
   "cell_type": "code",
   "execution_count": 5,
   "metadata": {},
   "outputs": [
    {
     "name": "stdout",
     "output_type": "stream",
     "text": [
      "bool:validator:sbl_default:timeseries:json:greeks:moc:factor7\n",
      "Value: True\n"
     ]
    }
   ],
   "source": [
    "# Insert a key-value pair\n",
    "try:\n",
    "    print(client.keys(\"*\")[1])\n",
    "    print(\"Value:\", client.get(client.keys(\"*\")[1]))\n",
    "except Exception as e:\n",
    "    print(f\"Error inserting data: {e}\")\n"
   ]
  },
  {
   "cell_type": "code",
   "execution_count": null,
   "metadata": {},
   "outputs": [],
   "source": [
    "# Update the value of an existing key\n",
    "try:\n",
    "    client.set(\"key1\", \"updated_value1\")\n",
    "    print(\"Updated key1 with updated_value1\")\n",
    "except Exception as e:\n",
    "    print(f\"Error updating data: {e}\")"
   ]
  },
  {
   "cell_type": "code",
   "execution_count": null,
   "metadata": {},
   "outputs": [],
   "source": [
    "# Retrieve the value of a key\n",
    "try:\n",
    "    value = client.get(\"key1\")\n",
    "    print(f\"Retrieved key1: {value}\")\n",
    "except Exception as e:\n",
    "    print(f\"Error retrieving data: {e}\")"
   ]
  }
 ],
 "metadata": {
  "kernelspec": {
   "display_name": ".venv",
   "language": "python",
   "name": "python3"
  },
  "language_info": {
   "codemirror_mode": {
    "name": "ipython",
    "version": 3
   },
   "file_extension": ".py",
   "mimetype": "text/x-python",
   "name": "python",
   "nbconvert_exporter": "python",
   "pygments_lexer": "ipython3",
   "version": "3.12.5"
  }
 },
 "nbformat": 4,
 "nbformat_minor": 2
}
